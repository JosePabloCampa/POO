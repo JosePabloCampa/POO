{
  "nbformat": 4,
  "nbformat_minor": 0,
  "metadata": {
    "colab": {
      "provenance": [],
      "authorship_tag": "ABX9TyOU5tahdYzxc09mpBtQ/NoF",
      "include_colab_link": true
    },
    "kernelspec": {
      "name": "python3",
      "display_name": "Python 3"
    },
    "language_info": {
      "name": "python"
    }
  },
  "cells": [
    {
      "cell_type": "markdown",
      "metadata": {
        "id": "view-in-github",
        "colab_type": "text"
      },
      "source": [
        "<a href=\"https://colab.research.google.com/github/JosePabloCampa/POO/blob/main/Ejercicios_en_clase_1.ipynb\" target=\"_parent\"><img src=\"https://colab.research.google.com/assets/colab-badge.svg\" alt=\"Open In Colab\"/></a>"
      ]
    },
    {
      "cell_type": "code",
      "source": [
        "# 1. Imprime \"¡Hola, Mundo!\" en la consola.\n",
        "print(\"¡Hola, Mundo!\")"
      ],
      "metadata": {
        "id": "CG7gEiDDkS9b",
        "colab": {
          "base_uri": "https://localhost:8080/"
        },
        "outputId": "ba1d08c3-a2f9-49a9-feb5-06daf1081ae5"
      },
      "execution_count": null,
      "outputs": [
        {
          "output_type": "stream",
          "name": "stdout",
          "text": [
            "¡Hola, Mundo!\n"
          ]
        }
      ]
    },
    {
      "cell_type": "code",
      "source": [
        "# 2. Declara una variable llamada nombre e imprime un valor.\n",
        "nombre = \"Pablo\"\n",
        "print(nombre)"
      ],
      "metadata": {
        "colab": {
          "base_uri": "https://localhost:8080/"
        },
        "id": "rWiVbW_WlMJX",
        "outputId": "c27ebeb3-7649-4307-bff4-534b05002735"
      },
      "execution_count": null,
      "outputs": [
        {
          "output_type": "stream",
          "name": "stdout",
          "text": [
            "Pablo\n"
          ]
        }
      ]
    },
    {
      "cell_type": "code",
      "source": [
        "# 3. Pide al usuario que ingrese un número e imprime su doble.\n",
        "num = int(input(\"Ingresa un número:  \"))\n",
        "print(\"El doble es:\", num*2)\n"
      ],
      "metadata": {
        "colab": {
          "base_uri": "https://localhost:8080/"
        },
        "id": "jEG0TMIOlXol",
        "outputId": "52769d14-db56-41e0-bad6-2dfd7a74f180"
      },
      "execution_count": null,
      "outputs": [
        {
          "output_type": "stream",
          "name": "stdout",
          "text": [
            "Ingresa un número:  4\n",
            "El doble es: 8\n"
          ]
        }
      ]
    },
    {
      "cell_type": "code",
      "source": [
        "# 4. Escribe un programa que sume dos números ingresados por el usuario.\n",
        "num1 = int(input(\"Ingresa el primer número: \"))\n",
        "num2 = int(input(\"Ingresa el segundo número: \"))\n",
        "print(\"La suma es:\", num1 + num2)"
      ],
      "metadata": {
        "colab": {
          "base_uri": "https://localhost:8080/"
        },
        "id": "VBarvrX7lwWX",
        "outputId": "b97116a2-c367-400b-bc4d-31327566230e"
      },
      "execution_count": null,
      "outputs": [
        {
          "output_type": "stream",
          "name": "stdout",
          "text": [
            "Ingresa el primer número: 6\n",
            "Ingresa el segundo número: 4\n",
            "La suma es: 10\n"
          ]
        }
      ]
    },
    {
      "cell_type": "code",
      "source": [
        "# 5. Crea una lista con cinco números y muestra el primer y último elemento.\n",
        "numeros = [5, 10, 15, 20, 25]\n",
        "print(\"Primer número:\", numeros[0], \"Último número:\", numeros[-1])"
      ],
      "metadata": {
        "colab": {
          "base_uri": "https://localhost:8080/"
        },
        "id": "SXPg7vx9miPf",
        "outputId": "bc8c3e68-a22b-49b2-c589-d3ec18f4fd3a"
      },
      "execution_count": null,
      "outputs": [
        {
          "output_type": "stream",
          "name": "stdout",
          "text": [
            "Primer número: 5 Último número: 25\n"
          ]
        }
      ]
    },
    {
      "cell_type": "code",
      "source": [
        "# 6. Escribe un programa que verifique si un número es par o impar.\n",
        "num = int(input(\"Ingresa un número: \"))\n",
        "if num%2 == 0:\n",
        "  print(\"El número es par\")\n",
        "else:\n",
        "  print(\"El número es impar\")"
      ],
      "metadata": {
        "colab": {
          "base_uri": "https://localhost:8080/"
        },
        "id": "00c45G2dnPP6",
        "outputId": "088be431-d092-4b16-ef28-979414d3546c"
      },
      "execution_count": null,
      "outputs": [
        {
          "output_type": "stream",
          "name": "stdout",
          "text": [
            "Ingresa un número: 7\n",
            "El número es impar\n"
          ]
        }
      ]
    },
    {
      "cell_type": "code",
      "source": [
        "# 7. Escribe un bucle que imprima los números del 1 al 10.\n",
        "for i in range(1, 11):\n",
        "  print(i)"
      ],
      "metadata": {
        "colab": {
          "base_uri": "https://localhost:8080/"
        },
        "id": "AzG6WAtEn0v9",
        "outputId": "5ef9ce71-9337-48c2-c218-ef666f0b6fe8"
      },
      "execution_count": null,
      "outputs": [
        {
          "output_type": "stream",
          "name": "stdout",
          "text": [
            "1\n",
            "2\n",
            "3\n",
            "4\n",
            "5\n",
            "6\n",
            "7\n",
            "8\n",
            "9\n",
            "10\n"
          ]
        }
      ]
    },
    {
      "cell_type": "code",
      "source": [
        "# 8. Calcula la suma de los primeros 100 números naturales.\n",
        "suma = 0\n",
        "for i in range(1, 101):\n",
        "  suma += i\n",
        "print(\"La suma de los primero 100 números naturales es:\", suma)"
      ],
      "metadata": {
        "colab": {
          "base_uri": "https://localhost:8080/"
        },
        "id": "SIFMqfmaoB8J",
        "outputId": "f41d40ff-1646-40a0-b56c-b3d31a4dde6b"
      },
      "execution_count": null,
      "outputs": [
        {
          "output_type": "stream",
          "name": "stdout",
          "text": [
            "La suma de los primero 100 números naturales es: 5050\n"
          ]
        }
      ]
    },
    {
      "cell_type": "code",
      "source": [
        "# 9. Crea una función que reciba un número y devuelva su cuadrado.\n",
        "def cuadrado(n):\n",
        "  return n**2\n",
        "num = int(input(\"Ingresa un número: \"))\n",
        "print(f\"El cuadrado de {num} es:\", cuadrado(num))"
      ],
      "metadata": {
        "colab": {
          "base_uri": "https://localhost:8080/"
        },
        "id": "wEt4MX0ooeQd",
        "outputId": "c72217f6-1c47-44dd-fee1-0920e0715c3b"
      },
      "execution_count": null,
      "outputs": [
        {
          "output_type": "stream",
          "name": "stdout",
          "text": [
            "Ingresa un número: 6\n",
            "El cuadrado de 6 es: 36\n"
          ]
        }
      ]
    },
    {
      "cell_type": "code",
      "source": [
        "# 10. Escribe un programa que cuente cuántas vocales tiene un texto.\n",
        "texto = input(\"Ingresa un texto: \")\n",
        "vocales = \"aeiouAEIOU\"\n",
        "cont = 0\n",
        "for letra in texto:\n",
        "  if letra in vocales:\n",
        "    cont += 1\n",
        "print(\"El texto tiene\", cont, \"vocales\")"
      ],
      "metadata": {
        "colab": {
          "base_uri": "https://localhost:8080/"
        },
        "id": "kX9NgSjbpCLT",
        "outputId": "05740640-7794-4b38-e66e-1dd0f3c3eb3a"
      },
      "execution_count": null,
      "outputs": [
        {
          "output_type": "stream",
          "name": "stdout",
          "text": [
            "Ingresa un texto: Estamos en clase de programacion orientada a objetos\n",
            "El texto tiene 21 vocales\n"
          ]
        }
      ]
    },
    {
      "cell_type": "code",
      "source": [
        "# 11. Crea una lista de números del 1 al 10 y muestra solo los números pares.\n",
        "numeros = list(range(1, 11))\n",
        "for i in range(len(numeros)):\n",
        "  if numeros[i]%2 == 0:\n",
        "    print(numeros[i])"
      ],
      "metadata": {
        "colab": {
          "base_uri": "https://localhost:8080/"
        },
        "id": "kN0yxx7Ap-bP",
        "outputId": "96107ea3-d231-47bc-b4f1-987de5bcd4c7"
      },
      "execution_count": null,
      "outputs": [
        {
          "output_type": "stream",
          "name": "stdout",
          "text": [
            "2\n",
            "4\n",
            "6\n",
            "8\n",
            "10\n"
          ]
        }
      ]
    },
    {
      "cell_type": "code",
      "source": [
        "# 12. Crea un diccionario que relacione nombres con su edad y muestra la edad de una persona específica.\n",
        "nombres = [\"Roberto\",\"Santiago\",\"Rodrigo\",\"Juan Pablo\"]\n",
        "edades = [19,20,18,21]\n",
        "edadbusq = 0\n",
        "busq = input(\"¿Que nombre desea buscar?:\")\n",
        "for i in range(len(nombres)):\n",
        "  if busq == nombres[i]:\n",
        "    edadbusq = edades[i]\n",
        "if edadbusq != 0:\n",
        "  print(f\"La edad de {busq} es de {edadbusq} años\")\n",
        "else:\n",
        "  print(\"No se encontró el nombre\")"
      ],
      "metadata": {
        "colab": {
          "base_uri": "https://localhost:8080/"
        },
        "id": "lfVu0KOPqaMk",
        "outputId": "f62dc41b-8520-4e28-a51d-5ce1b910b745"
      },
      "execution_count": null,
      "outputs": [
        {
          "output_type": "stream",
          "name": "stdout",
          "text": [
            "¿Que nombre desea buscar?:Rodrigo\n",
            "La edad de Rodrigo es de 18 años\n"
          ]
        }
      ]
    },
    {
      "cell_type": "code",
      "source": [
        "# 13. Escribe un programa que encuentre el número más grandeen una lista.\n",
        "list = [3,7,9,43,67,14,25,37,9,0,23,44,13,18,86]\n",
        "def mayor(lista):\n",
        "  nummayor = 0\n",
        "  for i in range(len(lista)):\n",
        "    if lista[i] > nummayor:\n",
        "      nummayor = lista[i]\n",
        "  return nummayor\n",
        "print(mayor(list))"
      ],
      "metadata": {
        "colab": {
          "base_uri": "https://localhost:8080/"
        },
        "id": "-s_cUeIpr0HZ",
        "outputId": "012c8ddb-d02b-4be8-c1b1-f8996a14d305"
      },
      "execution_count": null,
      "outputs": [
        {
          "output_type": "stream",
          "name": "stdout",
          "text": [
            "86\n"
          ]
        }
      ]
    },
    {
      "cell_type": "code",
      "source": [
        "# 14. Escribe una función que tome una lista de números y devuelva su promedio.\n",
        "list = [3,7,9,43,67,14,25,37,9,0,23,44,13,18,86]\n",
        "def promedio(lista):\n",
        "  suma = 0\n",
        "  for i in range(len(lista)):\n",
        "    suma += lista[i]\n",
        "  promedio = suma / len(lista)\n",
        "  return promedio\n",
        "print(promedio(list))"
      ],
      "metadata": {
        "colab": {
          "base_uri": "https://localhost:8080/"
        },
        "id": "DPxaDtWBs52h",
        "outputId": "b5f890fb-00d8-41a1-c6a9-3e46ef0d89b1"
      },
      "execution_count": null,
      "outputs": [
        {
          "output_type": "stream",
          "name": "stdout",
          "text": [
            "26.533333333333335\n"
          ]
        }
      ]
    },
    {
      "cell_type": "code",
      "source": [
        "\n",
        "# 15. Escribe un programa que verifique si una palabra es un palíndromo\n",
        "palabra = input(\"Ingresa una palabra: \")\n",
        "if palabra == palabra[::-1]:\n",
        "  print(\"Es un palindromo\")\n",
        "else:\n",
        "  print(\"No es un palindromo\")"
      ],
      "metadata": {
        "colab": {
          "base_uri": "https://localhost:8080/"
        },
        "id": "Fy97rbNgt3Ci",
        "outputId": "99154ad2-0dcb-4d9d-cc74-e648a2297362"
      },
      "execution_count": null,
      "outputs": [
        {
          "output_type": "stream",
          "name": "stdout",
          "text": [
            "Ingresa una palabra: escritura\n",
            "No es un palindromo\n"
          ]
        }
      ]
    },
    {
      "cell_type": "code",
      "source": [
        "\n",
        "# 16. Crea una funci´on que tome dos números y devuelva el mayor.\n",
        "num1 = int(input(\"Ingresa el primer número: \"))\n",
        "num2 = int(input(\"Ingresa el segundo número: \"))\n",
        "def mayor(num1,num2):\n",
        "  if num1 > num2:\n",
        "    return num1\n",
        "  else:\n",
        "    return num2\n",
        "print(f\"El número mayor es: {mayor(num1,num2)}\")"
      ],
      "metadata": {
        "colab": {
          "base_uri": "https://localhost:8080/"
        },
        "id": "k7mq9pbwuE_t",
        "outputId": "b89f05a4-c76a-449b-ace4-70d85138a670"
      },
      "execution_count": null,
      "outputs": [
        {
          "output_type": "stream",
          "name": "stdout",
          "text": [
            "Ingresa el primer número: 3\n",
            "Ingresa el segundo número: 6\n",
            "El número mayor es: 6\n"
          ]
        }
      ]
    },
    {
      "cell_type": "code",
      "source": [
        "# 17. Escribe un programa que genere la tabla de multiplicar de un n´umero ingresado por el usuario.\n",
        "num = int(input(\"Ingresa un número: \"))\n",
        "for i in range(1,11):\n",
        "  print(f\"{num} x {i} = {num*i}\")"
      ],
      "metadata": {
        "id": "ErT3QLPOuSWq",
        "outputId": "bb59f4a0-1098-4da6-94c4-e741173c18e5",
        "colab": {
          "base_uri": "https://localhost:8080/"
        }
      },
      "execution_count": null,
      "outputs": [
        {
          "output_type": "stream",
          "name": "stdout",
          "text": [
            "Ingresa un número: 7\n",
            "7 x 1 = 7\n",
            "7 x 2 = 14\n",
            "7 x 3 = 21\n",
            "7 x 4 = 28\n",
            "7 x 5 = 35\n",
            "7 x 6 = 42\n",
            "7 x 7 = 49\n",
            "7 x 8 = 56\n",
            "7 x 9 = 63\n",
            "7 x 10 = 70\n"
          ]
        }
      ]
    }
  ]
}