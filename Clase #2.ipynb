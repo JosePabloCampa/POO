{
  "nbformat": 4,
  "nbformat_minor": 0,
  "metadata": {
    "colab": {
      "provenance": []
    },
    "kernelspec": {
      "name": "python3",
      "display_name": "Python 3"
    },
    "language_info": {
      "name": "python"
    }
  },
  "cells": [
    {
      "cell_type": "code",
      "execution_count": null,
      "metadata": {
        "id": "9VyaxqgocgDs"
      },
      "outputs": [],
      "source": []
    },
    {
      "cell_type": "markdown",
      "source": [
        "# Conjuntos y listas\n",
        "\n",
        "- Conjuntos finitos:\n",
        "$$\\{o_1,o_2,\\dots,o_n\\}$$\n",
        "\n",
        "- Listas finitas:\n",
        "$$[1_1,1_2,\\dots,1_n]$$\n",
        "\n"
      ],
      "metadata": {
        "id": "6PtvkY0Ncnmi"
      }
    },
    {
      "cell_type": "markdown",
      "source": [
        "En Python, existe la función `range(a,b)` donde $a,b\\geq 0$"
      ],
      "metadata": {
        "id": "EPdfQOTve2RC"
      }
    },
    {
      "cell_type": "code",
      "source": [
        "range(10)"
      ],
      "metadata": {
        "colab": {
          "base_uri": "https://localhost:8080/"
        },
        "id": "JJp-otgxgOFr",
        "outputId": "386f617d-6ffc-4991-adbe-9bd01f62f924"
      },
      "execution_count": 1,
      "outputs": [
        {
          "output_type": "execute_result",
          "data": {
            "text/plain": [
              "range(0, 10)"
            ]
          },
          "metadata": {},
          "execution_count": 1
        }
      ]
    },
    {
      "cell_type": "markdown",
      "source": [
        "¿Cómo puedo ver los elementos de este generador de índices?"
      ],
      "metadata": {
        "id": "zqVM6TNVgZHJ"
      }
    },
    {
      "cell_type": "code",
      "source": [
        "for i in range(10) :\n",
        "  print(i)"
      ],
      "metadata": {
        "colab": {
          "base_uri": "https://localhost:8080/"
        },
        "id": "qDJFd1MRghQk",
        "outputId": "dcea1063-5851-4ac6-e25c-bcefe796813a"
      },
      "execution_count": 3,
      "outputs": [
        {
          "output_type": "stream",
          "name": "stdout",
          "text": [
            "0\n",
            "1\n",
            "2\n",
            "3\n",
            "4\n",
            "5\n",
            "6\n",
            "7\n",
            "8\n",
            "9\n"
          ]
        }
      ]
    },
    {
      "cell_type": "code",
      "source": [
        "# Vamos a construir dos conjuntos\n",
        "\n",
        "Pares = {i for i in range (21) if i%2 == 0}\n",
        "print(f\"Pares: {Pares}\")\n",
        "\n",
        "Impares = {i for i in range (21) if i%2 == 1}\n",
        "print(f\"Impares: {Impares}\")"
      ],
      "metadata": {
        "colab": {
          "base_uri": "https://localhost:8080/"
        },
        "id": "c1WlGYMDhJVz",
        "outputId": "f800c43e-2854-450f-9729-9ef5518d9fdc"
      },
      "execution_count": 7,
      "outputs": [
        {
          "output_type": "stream",
          "name": "stdout",
          "text": [
            "Pares: {0, 2, 4, 6, 8, 10, 12, 14, 16, 18, 20}\n",
            "Impares: {1, 3, 5, 7, 9, 11, 13, 15, 17, 19}\n"
          ]
        }
      ]
    },
    {
      "cell_type": "code",
      "source": [
        "C = {7, 17, 27, 19, 77, 56, 8, 12, 10, 13, 20, 16}\n",
        "C, type(C)"
      ],
      "metadata": {
        "colab": {
          "base_uri": "https://localhost:8080/"
        },
        "id": "kfoea0nRi7xh",
        "outputId": "54229d07-f344-4aea-b0f5-a83fd91fe86b"
      },
      "execution_count": 12,
      "outputs": [
        {
          "output_type": "execute_result",
          "data": {
            "text/plain": [
              "({7, 8, 10, 12, 13, 16, 17, 19, 20, 27, 56, 77}, set)"
            ]
          },
          "metadata": {},
          "execution_count": 12
        }
      ]
    },
    {
      "cell_type": "markdown",
      "source": [
        "## Los objetos en Python tienen atributos"
      ],
      "metadata": {
        "id": "rfQpsh-KkEH5"
      }
    },
    {
      "cell_type": "code",
      "source": [
        "Pares.intersection(Impares)"
      ],
      "metadata": {
        "colab": {
          "base_uri": "https://localhost:8080/"
        },
        "id": "liP5hMW1kJH9",
        "outputId": "a365bed3-df01-424c-af4e-8bfec24da6fd"
      },
      "execution_count": 13,
      "outputs": [
        {
          "output_type": "execute_result",
          "data": {
            "text/plain": [
              "set()"
            ]
          },
          "metadata": {},
          "execution_count": 13
        }
      ]
    },
    {
      "cell_type": "code",
      "source": [
        "Pares.union(Impares)"
      ],
      "metadata": {
        "colab": {
          "base_uri": "https://localhost:8080/"
        },
        "id": "hUFZdEhUkoBf",
        "outputId": "25fa10b7-36e2-4ade-a2a6-01251624f47a"
      },
      "execution_count": 15,
      "outputs": [
        {
          "output_type": "execute_result",
          "data": {
            "text/plain": [
              "{0, 1, 2, 3, 4, 5, 6, 7, 8, 9, 10, 11, 12, 13, 14, 15, 16, 17, 18, 19, 20}"
            ]
          },
          "metadata": {},
          "execution_count": 15
        }
      ]
    },
    {
      "cell_type": "code",
      "source": [
        "Impares.difference(C) # Quitando elementos de C a los Impares"
      ],
      "metadata": {
        "colab": {
          "base_uri": "https://localhost:8080/"
        },
        "id": "ZT55P4Tbkw6L",
        "outputId": "d7ea9ad9-9db5-4765-cbe6-d21a41521110"
      },
      "execution_count": 14,
      "outputs": [
        {
          "output_type": "execute_result",
          "data": {
            "text/plain": [
              "{1, 3, 5, 9, 11, 15}"
            ]
          },
          "metadata": {},
          "execution_count": 14
        }
      ]
    },
    {
      "cell_type": "markdown",
      "source": [
        "### Listas"
      ],
      "metadata": {
        "id": "x-es5dXGmIYS"
      }
    },
    {
      "cell_type": "code",
      "source": [
        "Lista_Pares = list(Pares)\n",
        "Lista_Pares"
      ],
      "metadata": {
        "colab": {
          "base_uri": "https://localhost:8080/"
        },
        "id": "Dpk8l3qhmKxA",
        "outputId": "dfc7baea-caf9-4961-87dd-7b2867b47e52"
      },
      "execution_count": 16,
      "outputs": [
        {
          "output_type": "execute_result",
          "data": {
            "text/plain": [
              "[0, 2, 4, 6, 8, 10, 12, 14, 16, 18, 20]"
            ]
          },
          "metadata": {},
          "execution_count": 16
        }
      ]
    },
    {
      "cell_type": "code",
      "source": [],
      "metadata": {
        "id": "sReAC2c2mePI"
      },
      "execution_count": null,
      "outputs": []
    }
  ]
}
