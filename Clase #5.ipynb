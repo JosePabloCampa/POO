{
  "nbformat": 4,
  "nbformat_minor": 0,
  "metadata": {
    "colab": {
      "provenance": []
    },
    "kernelspec": {
      "name": "python3",
      "display_name": "Python 3"
    },
    "language_info": {
      "name": "python"
    }
  },
  "cells": [
    {
      "cell_type": "code",
      "source": [
        "class Alvaro():\n",
        "  pass"
      ],
      "metadata": {
        "id": "Z_tnw2t1R-Ro"
      },
      "execution_count": 5,
      "outputs": []
    },
    {
      "cell_type": "code",
      "source": [
        "Alvaro()"
      ],
      "metadata": {
        "colab": {
          "base_uri": "https://localhost:8080/"
        },
        "id": "XkV6AJT6SEQo",
        "outputId": "710d7d60-88eb-4d25-b434-46e1e80419fe"
      },
      "execution_count": 6,
      "outputs": [
        {
          "output_type": "execute_result",
          "data": {
            "text/plain": [
              "<__main__.Alvaro at 0x7dfd9dd6c190>"
            ]
          },
          "metadata": {},
          "execution_count": 6
        }
      ]
    },
    {
      "cell_type": "code",
      "execution_count": 7,
      "metadata": {
        "id": "cWx0JLfnNtmo"
      },
      "outputs": [],
      "source": [
        "# Vamos a crear una clase que se llamará Álvaro\n",
        "\n",
        "class Alvaro:\n",
        "  def __init__(self, edad, bff, Ceci):\n",
        "        self.edad = edad\n",
        "        self.bff = bff\n",
        "        self.Ceci = Ceci\n",
        "\n",
        "  def saludar(self):\n",
        "    print(f\"A los {self.edad} conocí a mi amigo {self.bff}\")\n",
        "\n",
        "  def chisme(self):\n",
        "    print(f\"Estoy en el chisme con {self.bff} y con {self.Ceci}\")\n",
        "\n",
        "\n",
        "\n",
        "\n",
        "\n",
        "\n"
      ]
    },
    {
      "cell_type": "code",
      "source": [
        "avo = Alvaro(18, \"Jaume\", \"Ceci\")"
      ],
      "metadata": {
        "id": "pLcKibmQReMf"
      },
      "execution_count": 8,
      "outputs": []
    },
    {
      "cell_type": "code",
      "source": [
        "# ¿Cuáles son los argumentos de la clase?\n",
        "\n",
        "avo.edad, avo.bff"
      ],
      "metadata": {
        "colab": {
          "base_uri": "https://localhost:8080/"
        },
        "id": "_IhpvNUPRs9-",
        "outputId": "2345c7af-e62b-4471-aca1-b4ac357a1a33"
      },
      "execution_count": 9,
      "outputs": [
        {
          "output_type": "execute_result",
          "data": {
            "text/plain": [
              "(18, 'Jaume')"
            ]
          },
          "metadata": {},
          "execution_count": 9
        }
      ]
    },
    {
      "cell_type": "code",
      "source": [
        "avo.chisme()"
      ],
      "metadata": {
        "colab": {
          "base_uri": "https://localhost:8080/"
        },
        "id": "5l6Nqw6LSYji",
        "outputId": "85e6cddb-7447-4487-f23e-db76c69a4764"
      },
      "execution_count": 12,
      "outputs": [
        {
          "output_type": "stream",
          "name": "stdout",
          "text": [
            "Estoy en el chisme con Jaume y con Ceci\n"
          ]
        }
      ]
    }
  ]
}
